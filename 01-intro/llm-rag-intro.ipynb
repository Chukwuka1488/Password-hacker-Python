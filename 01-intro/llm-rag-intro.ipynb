{
 "cells": [
  {
   "cell_type": "code",
   "execution_count": 1,
   "id": "5acdf6a5-09e9-4062-8704-3bae6bb6f846",
   "metadata": {},
   "outputs": [],
   "source": [
    "import openai"
   ]
  },
  {
   "cell_type": "code",
   "execution_count": 2,
   "id": "ebf9fbe7-bfe1-46be-a0e5-994523a4e991",
   "metadata": {},
   "outputs": [],
   "source": [
    "from openai import OpenAI"
   ]
  },
  {
   "cell_type": "code",
   "execution_count": 3,
   "id": "aee730c2-2306-463c-b333-f2a6cfa66877",
   "metadata": {},
   "outputs": [],
   "source": [
    "client=OpenAI()"
   ]
  },
  {
   "cell_type": "code",
   "execution_count": 5,
   "id": "80bb5c45-c131-4cc9-af5d-9948ca2adf24",
   "metadata": {},
   "outputs": [],
   "source": [
    "import sys\n",
    "import os"
   ]
  },
  {
   "cell_type": "code",
   "execution_count": 7,
   "id": "9c785174-f715-47c8-8108-9df21eb53bf5",
   "metadata": {},
   "outputs": [],
   "source": [
    "completion = client.chat.completions.create(\n",
    "    model=\"gpt-4o-mini\",\n",
    "    messages=[\n",
    "        {\"role\": \"user\", \"content\": \"why should i join the course\"}\n",
    "    ]\n",
    ")"
   ]
  },
  {
   "cell_type": "code",
   "execution_count": 9,
   "id": "a192200d-c671-478a-8d71-d6865872aed8",
   "metadata": {},
   "outputs": [
    {
     "name": "stdout",
     "output_type": "stream",
     "text": [
      "Deciding to join a course can depend on various factors, including your personal and professional goals. Here are some reasons why you might consider joining a particular course:\n",
      "\n",
      "1. **Skill Development**: Courses often provide structured learning, allowing you to acquire new skills or enhance existing ones that are relevant to your career or interests.\n",
      "\n",
      "2. **Career Advancement**: Completing a course can make you more competitive in the job market by demonstrating your commitment to professional development.\n",
      "\n",
      "3. **Networking Opportunities**: Courses often provide access to like-minded individuals, industry professionals, and instructors, which can expand your professional network.\n",
      "\n",
      "4. **Expert Knowledge**: Courses are typically led by experienced instructors who can provide valuable insights, resources, and mentorship.\n",
      "\n",
      "5. **Flexibility**: Many courses offer flexible schedules or online options, making it easier to fit learning into your busy life.\n",
      "\n",
      "6. **Access to Resources**: Joining a course often gives you access to exclusive materials, databases, and tools that can further your learning.\n",
      "\n",
      "7. **Certifications**: Many courses provide certificates upon completion, which can enhance your resume and validate your skills.\n",
      "\n",
      "8. **Personal Growth**: Beyond professional benefits, courses can facilitate personal growth by challenging you to step outside your comfort zone or explore new interests.\n",
      "\n",
      "9. **Structured Learning**: A course provides a clear roadmap for learning, which can help you stay motivated and focused.\n",
      "\n",
      "10. **Feedback and Assessment**: Instructors can provide feedback on your progress, allowing you to measure your improvement and identify areas for further development.\n",
      "\n",
      "Consider your goals, interests, and the specifics of the course to make an informed decision. If you have any particular course in mind, feel free to share more details for tailored advice!\n"
     ]
    }
   ],
   "source": [
    "print(completion.choices[0].message.content)"
   ]
  },
  {
   "cell_type": "code",
   "execution_count": null,
   "id": "e0dcc02b-f7eb-4988-a18c-b7ff2360b2ca",
   "metadata": {},
   "outputs": [],
   "source": []
  }
 ],
 "metadata": {
  "kernelspec": {
   "display_name": "Python 3 (ipykernel)",
   "language": "python",
   "name": "python3"
  },
  "language_info": {
   "codemirror_mode": {
    "name": "ipython",
    "version": 3
   },
   "file_extension": ".py",
   "mimetype": "text/x-python",
   "name": "python",
   "nbconvert_exporter": "python",
   "pygments_lexer": "ipython3",
   "version": "3.13.0"
  }
 },
 "nbformat": 4,
 "nbformat_minor": 5
}
